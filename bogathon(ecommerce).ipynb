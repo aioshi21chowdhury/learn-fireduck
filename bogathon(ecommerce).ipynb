{
  "nbformat": 4,
  "nbformat_minor": 0,
  "metadata": {
    "colab": {
      "provenance": [],
      "collapsed_sections": [
        "HXFMzpc-iQPf",
        "_4R6oivYWPoN"
      ],
      "authorship_tag": "ABX9TyPO7P8m6s9HX9m86K86VUgw",
      "include_colab_link": true
    },
    "kernelspec": {
      "name": "python3",
      "display_name": "Python 3"
    },
    "language_info": {
      "name": "python"
    }
  },
  "cells": [
    {
      "cell_type": "markdown",
      "metadata": {
        "id": "view-in-github",
        "colab_type": "text"
      },
      "source": [
        "<a href=\"https://colab.research.google.com/github/aioshi21chowdhury/learn-fireduck/blob/main/bogathon(ecommerce).ipynb\" target=\"_parent\"><img src=\"https://colab.research.google.com/assets/colab-badge.svg\" alt=\"Open In Colab\"/></a>"
      ]
    },
    {
      "cell_type": "markdown",
      "source": [
        "#pandas performance"
      ],
      "metadata": {
        "id": "HXFMzpc-iQPf"
      }
    },
    {
      "cell_type": "code",
      "source": [
        "!pip install Faker"
      ],
      "metadata": {
        "colab": {
          "base_uri": "https://localhost:8080/"
        },
        "id": "zOFcbcLwWIl4",
        "outputId": "f69167cc-8cd1-448c-cf38-5552d3ff37e1"
      },
      "execution_count": 21,
      "outputs": [
        {
          "output_type": "stream",
          "name": "stdout",
          "text": [
            "Collecting Faker\n",
            "  Downloading faker-37.0.2-py3-none-any.whl.metadata (15 kB)\n",
            "Requirement already satisfied: tzdata in /usr/local/lib/python3.11/dist-packages (from Faker) (2025.1)\n",
            "Downloading faker-37.0.2-py3-none-any.whl (1.9 MB)\n",
            "\u001b[2K   \u001b[90m━━━━━━━━━━━━━━━━━━━━━━━━━━━━━━━━━━━━━━━━\u001b[0m \u001b[32m1.9/1.9 MB\u001b[0m \u001b[31m19.7 MB/s\u001b[0m eta \u001b[36m0:00:00\u001b[0m\n",
            "\u001b[?25hInstalling collected packages: Faker\n",
            "Successfully installed Faker-37.0.2\n"
          ]
        }
      ]
    },
    {
      "cell_type": "code",
      "source": [
        "import pandas as pd\n",
        "from faker import Faker"
      ],
      "metadata": {
        "id": "gFa11VZcWE_3"
      },
      "execution_count": 22,
      "outputs": []
    },
    {
      "cell_type": "code",
      "source": [],
      "metadata": {
        "id": "AD1uAo-CXEkn"
      },
      "execution_count": null,
      "outputs": []
    },
    {
      "cell_type": "code",
      "source": [
        "#import pandas as pd\n",
        "import time\n",
        "from faker import Faker\n",
        "import random\n",
        "\n",
        "# Load the Dataset\n",
        "start = time.time()\n",
        "#df_pd = pd.read_csv(\"ecommerce-data.csv\", encoding=\"ISO-8859-1\")  # Handling special characters\n",
        "print(\"Data Loaded in\", time.time() - start, \"seconds\")\n",
        "\n",
        "# Expand Dataset by Duplication (20x size)\n",
        "start = time.time()\n",
        "big_df = pd.concat([df_pd for _ in range(20)], ignore_index=True)\n",
        "print(\"Dataset Expanded in\", time.time() - start, \"seconds\")\n",
        "\n",
        "# Drop Unnecessary Columns\n",
        "start = time.time()\n",
        "df_pd = df_pd.drop(columns=[\"congestion_surcharge\", \"airport_fee\"], errors='ignore')\n",
        "print(\"Columns Dropped in\", time.time() - start, \"seconds\")\n",
        "\n",
        "# Sorting Performance\n",
        "start = time.time()\n",
        "df_sorted = df_pd.sort_values(by=\"UnitPrice\").reset_index(drop=True)\n",
        "print(\"Sorting Completed in\", time.time() - start, \"seconds\")\n",
        "\n",
        "# Grouping and Aggregation\n",
        "start = time.time()\n",
        "df_mean_price = big_df.groupby(\"StockCode\")[\"UnitPrice\"].mean().reset_index()\n",
        "print(\"Grouping Completed in\", time.time() - start, \"seconds\")\n",
        "\n",
        "# Generating Fake Data\n",
        "start = time.time()\n",
        "fake = Faker()\n",
        "num_rows = 250_000\n",
        "data = {\n",
        "    'ID': [fake.uuid4() for _ in range(num_rows)],\n",
        "    'Name': [fake.name() for _ in range(num_rows)],\n",
        "    'Company_Name': [fake.company() for _ in range(num_rows)],\n",
        "    'City': [fake.city() for _ in range(num_rows)],\n",
        "    'Country': [fake.country() for _ in range(num_rows)],\n",
        "}\n",
        "df_fake = pd.DataFrame(data)\n",
        "print(\"Fake Data Generated in\", time.time() - start, \"seconds\")\n",
        "\n",
        "# Transform High-Cardinality Columns\n",
        "start = time.time()\n",
        "df_transformed = df_fake.copy()\n",
        "for column in df_transformed.columns:\n",
        "    df_transformed[column] = df_fake[column].str[::-1]  # Reverse strings\n",
        "print(\"String Transformation Completed in\", time.time() - start, \"seconds\")\n",
        "\n",
        "# Expanding and Saving Dataset\n",
        "start = time.time()\n",
        "df_combined = pd.concat([df_fake, df_transformed], axis=0, ignore_index=True)\n",
        "df_combined.to_csv('combined_dataset.csv', index=False)\n",
        "df_combined.to_parquet('combined_dataset.parquet', index=False)\n",
        "print(\"Dataset Saved in\", time.time() - start, \"seconds\")\n"
      ],
      "metadata": {
        "colab": {
          "base_uri": "https://localhost:8080/"
        },
        "id": "P7L8ng6sWcg0",
        "outputId": "c90ba2e5-b444-4d3c-adaa-c3282d77dbb7"
      },
      "execution_count": 27,
      "outputs": [
        {
          "output_type": "stream",
          "name": "stdout",
          "text": [
            "Data Loaded in 4.363059997558594e-05 seconds\n",
            "Dataset Expanded in 1.2068984508514404 seconds\n",
            "Columns Dropped in 0.019129514694213867 seconds\n",
            "Sorting Completed in 0.1342329978942871 seconds\n",
            "Grouping Completed in 1.3502075672149658 seconds\n",
            "Fake Data Generated in 106.0771107673645 seconds\n",
            "String Transformation Completed in 0.8640601634979248 seconds\n",
            "Dataset Saved in 3.0465197563171387 seconds\n"
          ]
        }
      ]
    },
    {
      "cell_type": "markdown",
      "source": [
        "#fireducks"
      ],
      "metadata": {
        "id": "_4R6oivYWPoN"
      }
    },
    {
      "cell_type": "code",
      "source": [
        "# Install dependencies\n",
        "!pip install kagglehub fireducks"
      ],
      "metadata": {
        "colab": {
          "base_uri": "https://localhost:8080/"
        },
        "id": "tZ-tEyWbSAWU",
        "outputId": "b77f8fde-e118-43ee-8342-305b2efe1c75"
      },
      "execution_count": 1,
      "outputs": [
        {
          "output_type": "stream",
          "name": "stdout",
          "text": [
            "Requirement already satisfied: kagglehub in /usr/local/lib/python3.11/dist-packages (0.3.10)\n",
            "Collecting fireducks\n",
            "  Downloading fireducks-1.2.5-cp311-cp311-manylinux_2_28_x86_64.whl.metadata (1.0 kB)\n",
            "Requirement already satisfied: packaging in /usr/local/lib/python3.11/dist-packages (from kagglehub) (24.2)\n",
            "Requirement already satisfied: pyyaml in /usr/local/lib/python3.11/dist-packages (from kagglehub) (6.0.2)\n",
            "Requirement already satisfied: requests in /usr/local/lib/python3.11/dist-packages (from kagglehub) (2.32.3)\n",
            "Requirement already satisfied: tqdm in /usr/local/lib/python3.11/dist-packages (from kagglehub) (4.67.1)\n",
            "Collecting firefw==1.2.5 (from fireducks)\n",
            "  Downloading firefw-1.2.5-py3-none-any.whl.metadata (818 bytes)\n",
            "Requirement already satisfied: pandas<2.3.0,>=1.5.3 in /usr/local/lib/python3.11/dist-packages (from fireducks) (2.2.2)\n",
            "Collecting pyarrow<19.1,>=19.0 (from fireducks)\n",
            "  Downloading pyarrow-19.0.1-cp311-cp311-manylinux_2_28_x86_64.whl.metadata (3.3 kB)\n",
            "Requirement already satisfied: numpy>=1.23.2 in /usr/local/lib/python3.11/dist-packages (from pandas<2.3.0,>=1.5.3->fireducks) (1.26.4)\n",
            "Requirement already satisfied: python-dateutil>=2.8.2 in /usr/local/lib/python3.11/dist-packages (from pandas<2.3.0,>=1.5.3->fireducks) (2.8.2)\n",
            "Requirement already satisfied: pytz>=2020.1 in /usr/local/lib/python3.11/dist-packages (from pandas<2.3.0,>=1.5.3->fireducks) (2025.1)\n",
            "Requirement already satisfied: tzdata>=2022.7 in /usr/local/lib/python3.11/dist-packages (from pandas<2.3.0,>=1.5.3->fireducks) (2025.1)\n",
            "Requirement already satisfied: charset-normalizer<4,>=2 in /usr/local/lib/python3.11/dist-packages (from requests->kagglehub) (3.4.1)\n",
            "Requirement already satisfied: idna<4,>=2.5 in /usr/local/lib/python3.11/dist-packages (from requests->kagglehub) (3.10)\n",
            "Requirement already satisfied: urllib3<3,>=1.21.1 in /usr/local/lib/python3.11/dist-packages (from requests->kagglehub) (2.3.0)\n",
            "Requirement already satisfied: certifi>=2017.4.17 in /usr/local/lib/python3.11/dist-packages (from requests->kagglehub) (2025.1.31)\n",
            "Requirement already satisfied: six>=1.5 in /usr/local/lib/python3.11/dist-packages (from python-dateutil>=2.8.2->pandas<2.3.0,>=1.5.3->fireducks) (1.17.0)\n",
            "Downloading fireducks-1.2.5-cp311-cp311-manylinux_2_28_x86_64.whl (7.3 MB)\n",
            "\u001b[2K   \u001b[90m━━━━━━━━━━━━━━━━━━━━━━━━━━━━━━━━━━━━━━━━\u001b[0m \u001b[32m7.3/7.3 MB\u001b[0m \u001b[31m45.1 MB/s\u001b[0m eta \u001b[36m0:00:00\u001b[0m\n",
            "\u001b[?25hDownloading firefw-1.2.5-py3-none-any.whl (12 kB)\n",
            "Downloading pyarrow-19.0.1-cp311-cp311-manylinux_2_28_x86_64.whl (42.1 MB)\n",
            "\u001b[2K   \u001b[90m━━━━━━━━━━━━━━━━━━━━━━━━━━━━━━━━━━━━━━━━\u001b[0m \u001b[32m42.1/42.1 MB\u001b[0m \u001b[31m14.9 MB/s\u001b[0m eta \u001b[36m0:00:00\u001b[0m\n",
            "\u001b[?25hInstalling collected packages: pyarrow, firefw, fireducks\n",
            "  Attempting uninstall: pyarrow\n",
            "    Found existing installation: pyarrow 18.1.0\n",
            "    Uninstalling pyarrow-18.1.0:\n",
            "      Successfully uninstalled pyarrow-18.1.0\n",
            "Successfully installed fireducks-1.2.5 firefw-1.2.5 pyarrow-19.0.1\n"
          ]
        }
      ]
    },
    {
      "cell_type": "code",
      "source": [
        "\n",
        "# Load required libraries\n",
        "import kagglehub\n",
        "import pandas as pd\n",
        "import fireducks.pandas as fpd\n",
        "import time"
      ],
      "metadata": {
        "id": "rdkOkAf_SHoX"
      },
      "execution_count": 2,
      "outputs": []
    },
    {
      "cell_type": "code",
      "source": [
        "# Download the dataset\n",
        "path = \"/content/data.csv\"\n",
        "\n",
        "print(\"Path to dataset files:\", path)"
      ],
      "metadata": {
        "id": "bq7sRNqlZ5tF"
      },
      "execution_count": null,
      "outputs": []
    },
    {
      "cell_type": "code",
      "source": [
        "# Set FireDucks to Benchmark Mode\n",
        "from fireducks.core import get_fireducks_options\n",
        "get_fireducks_options().set_benchmark_mode(True)"
      ],
      "metadata": {
        "id": "pkQW2LtISJCw"
      },
      "execution_count": 3,
      "outputs": []
    },
    {
      "cell_type": "code",
      "source": [
        "# Set FireDucks to Benchmark Mode\n",
        "from fireducks.core import get_fireducks_options\n",
        "get_fireducks_options().set_benchmark_mode(True)\n",
        "\n"
      ],
      "metadata": {
        "colab": {
          "base_uri": "https://localhost:8080/"
        },
        "id": "ntepXXQMSNLj",
        "outputId": "16deea94-fffb-4bff-8286-4915c858f245"
      },
      "execution_count": 4,
      "outputs": [
        {
          "output_type": "stream",
          "name": "stdout",
          "text": [
            "Path to dataset files: /content/data.csv\n"
          ]
        }
      ]
    },
    {
      "cell_type": "code",
      "source": [
        "\n",
        "# Read the CSV file (using both Pandas and FireDucks for comparison)\n",
        "start = time.time()\n",
        "df_pd = pd.read_csv(path , encoding=\"ISO-8859-1\")  # Use ISO encoding for special characters\n",
        "df_fd = fpd.read_csv(path , encoding=\"ISO-8859-1\")\n",
        "\n",
        "print(\"Data Loaded in\", time.time() - start, \"seconds\")"
      ],
      "metadata": {
        "colab": {
          "base_uri": "https://localhost:8080/"
        },
        "id": "IUA_QhcRST7g",
        "outputId": "13df2042-374f-4cf4-da6d-9c4418389cd5"
      },
      "execution_count": 8,
      "outputs": [
        {
          "output_type": "stream",
          "name": "stdout",
          "text": [
            "Data Loaded in 2.8884501457214355 seconds\n"
          ]
        }
      ]
    },
    {
      "cell_type": "code",
      "source": [
        "# Benchmark File I/O performance\n",
        "print(\"\\n📌 **File I/O Performance**\")\n",
        "%timeit pd.read_csv(path , encoding=\"ISO-8859-1\")\n",
        "%timeit fpd.read_csv(path , encoding=\"ISO-8859-1\")"
      ],
      "metadata": {
        "colab": {
          "base_uri": "https://localhost:8080/"
        },
        "id": "IzA5kzdnS7BU",
        "outputId": "f3dd66fe-9c87-423f-c6f9-8606661b0b4d"
      },
      "execution_count": 11,
      "outputs": [
        {
          "output_type": "stream",
          "name": "stdout",
          "text": [
            "\n",
            "📌 **File I/O Performance**\n",
            "807 ms ± 18.7 ms per loop (mean ± std. dev. of 7 runs, 1 loop each)\n",
            "1.22 s ± 215 ms per loop (mean ± std. dev. of 7 runs, 1 loop each)\n"
          ]
        }
      ]
    },
    {
      "cell_type": "code",
      "source": [
        "# Check dataset information\n",
        "df_pd.info(memory_usage=\"deep\")"
      ],
      "metadata": {
        "colab": {
          "base_uri": "https://localhost:8080/"
        },
        "id": "D-jFKiy0TANF",
        "outputId": "d9577cad-7ffc-4550-9d94-fcd32aade5aa"
      },
      "execution_count": 12,
      "outputs": [
        {
          "output_type": "stream",
          "name": "stdout",
          "text": [
            "<class 'pandas.core.frame.DataFrame'>\n",
            "RangeIndex: 541909 entries, 0 to 541908\n",
            "Data columns (total 8 columns):\n",
            " #   Column       Non-Null Count   Dtype  \n",
            "---  ------       --------------   -----  \n",
            " 0   InvoiceNo    541909 non-null  object \n",
            " 1   StockCode    541909 non-null  object \n",
            " 2   Description  540455 non-null  object \n",
            " 3   Quantity     541909 non-null  int64  \n",
            " 4   InvoiceDate  541909 non-null  object \n",
            " 5   UnitPrice    541909 non-null  float64\n",
            " 6   CustomerID   406829 non-null  float64\n",
            " 7   Country      541909 non-null  object \n",
            "dtypes: float64(2), int64(1), object(5)\n",
            "memory usage: 193.8 MB\n"
          ]
        }
      ]
    },
    {
      "cell_type": "code",
      "source": [
        "# Drop unnecessary columns\n",
        "df_pd.drop(columns=[\"InvoiceNo\", \"CustomerID\"], inplace=True)\n",
        "df_fd.drop(columns=[\"InvoiceNo\", \"CustomerID\"], inplace=True)"
      ],
      "metadata": {
        "id": "asH4Av_xTBy9"
      },
      "execution_count": 13,
      "outputs": []
    },
    {
      "cell_type": "code",
      "source": [
        "# Sorting based on 'UnitPrice'\n",
        "df_sorted = df_pd.sort_values(by=\"UnitPrice\").reset_index(drop=True)"
      ],
      "metadata": {
        "id": "WebXUkE0THxV"
      },
      "execution_count": 14,
      "outputs": []
    },
    {
      "cell_type": "code",
      "source": [
        "# Aggregations: Group by 'Country'\n",
        "df_mean_price = df_pd.groupby(\"Country\")[\"UnitPrice\"].mean().reset_index()\n",
        "df_total_quantity = df_pd.groupby(\"Country\")[\"Quantity\"].sum().reset_index()"
      ],
      "metadata": {
        "id": "OZZqGZhjTJ6V"
      },
      "execution_count": 15,
      "outputs": []
    },
    {
      "cell_type": "code",
      "source": [
        "\n",
        "# Using FireDucks for aggregations\n",
        "df_mean_price_fd = df_fd.groupby(\"Country\").UnitPrice.mean().reset_index()\n",
        "df_total_quantity_fd = df_fd.groupby(\"Country\").Quantity.sum().reset_index()"
      ],
      "metadata": {
        "id": "ok6R5M2QTMgd"
      },
      "execution_count": 16,
      "outputs": []
    },
    {
      "cell_type": "code",
      "source": [
        "# Benchmark Sorting\n",
        "print(\"\\n📌 **Sorting Performance**\")\n",
        "%timeit df_pd.sort_values(by=\"UnitPrice\")%timeit df_fd.sort_values(by=\"UnitPrice\")"
      ],
      "metadata": {
        "colab": {
          "base_uri": "https://localhost:8080/"
        },
        "id": "1Pnpbc7kTPpN",
        "outputId": "38ad608c-6a1f-4e5a-9e79-bee4ed990335"
      },
      "execution_count": 17,
      "outputs": [
        {
          "output_type": "stream",
          "name": "stdout",
          "text": [
            "\n",
            "📌 **Sorting Performance**\n",
            "118 ms ± 7.92 ms per loop (mean ± std. dev. of 7 runs, 1 loop each)\n",
            "191 ms ± 11.7 ms per loop (mean ± std. dev. of 7 runs, 1 loop each)\n"
          ]
        }
      ]
    },
    {
      "cell_type": "code",
      "source": [
        "# Benchmark Aggregations\n",
        "print(\"\\n📌 **Aggregation Performance**\")\n",
        "%timeit df_pd.groupby(\"Country\").UnitPrice.mean().reset_index()\n",
        "%timeit df_fd.groupby(\"Country\").UnitPrice.mean().reset_index()"
      ],
      "metadata": {
        "colab": {
          "base_uri": "https://localhost:8080/"
        },
        "id": "S9bZn3asTT03",
        "outputId": "3e7ccebe-22b0-41ee-999b-58dc1558996c"
      },
      "execution_count": 18,
      "outputs": [
        {
          "output_type": "stream",
          "name": "stdout",
          "text": [
            "\n",
            "📌 **Aggregation Performance**\n",
            "46.6 ms ± 10.5 ms per loop (mean ± std. dev. of 7 runs, 10 loops each)\n",
            "26.2 ms ± 4.51 ms per loop (mean ± std. dev. of 7 runs, 10 loops each)\n"
          ]
        }
      ]
    },
    {
      "cell_type": "code",
      "execution_count": 19,
      "metadata": {
        "colab": {
          "base_uri": "https://localhost:8080/"
        },
        "id": "lJooFgw_PExi",
        "outputId": "5e8a4271-2907-4376-cdd5-3e3e7a54731c"
      },
      "outputs": [
        {
          "output_type": "stream",
          "name": "stdout",
          "text": [
            "\n",
            "✅ Data Processing Completed!\n"
          ]
        }
      ],
      "source": [
        "\n",
        "# Save results to CSV and Parquet\n",
        "df_sorted.to_csv(\"ecommerce_sorted.csv\", index=False)\n",
        "df_mean_price.to_parquet(\"ecommerce_aggregated.parquet\", index=False)\n",
        "\n",
        "print(\"\\n✅ Data Processing Completed!\")\n"
      ]
    },
    {
      "cell_type": "markdown",
      "source": [
        "#fireduck performance"
      ],
      "metadata": {
        "id": "BuMiflkdicMG"
      }
    },
    {
      "cell_type": "code",
      "source": [
        "import fireducks.pandas as fpd  # Import the pandas submodule from fireducks\n",
        "import pandas as pd\n",
        "import time"
      ],
      "metadata": {
        "id": "_yhOZA49d8Rk"
      },
      "execution_count": 35,
      "outputs": []
    },
    {
      "cell_type": "code",
      "source": [
        "\n",
        "path = \"/content/data.csv\"\n",
        "\n",
        "# Load Data using FireDucks\n",
        "start = time.time()\n",
        "df_fd = fpd.read_csv(path, encoding=\"ISO-8859-1\")\n",
        "print(\"Data Loaded in\", time.time() - start, \"seconds\")\n",
        "\n",
        "# Convert to Pandas for unsupported operations\n",
        "df_fd_pd = df_fd.to_pandas()\n",
        "\n",
        "# Dataset Expansion\n",
        "start = time.time()\n",
        "df_fd_pd = pd.concat([df_fd_pd] * 2)\n",
        "print(\"Dataset Expanded in\", time.time() - start, \"seconds\")\n",
        "\n",
        "# Dropping Columns\n",
        "start = time.time()\n",
        "df_fd_pd.drop(columns=[\"Description\"], inplace=True)\n",
        "print(\"Columns Dropped in\", time.time() - start, \"seconds\")\n",
        "\n",
        "# Sorting\n",
        "start = time.time()\n",
        "df_fd_pd = df_fd_pd.sort_values(by=[\"InvoiceDate\"])\n",
        "print(\"Sorting Completed in\", time.time() - start, \"seconds\")\n",
        "\n",
        "# Grouping (Aggregation)\n",
        "start = time.time()\n",
        "df_fd_pd_grouped = df_fd_pd.groupby(\"Country\")[\"Quantity\"].sum()\n",
        "print(\"Grouping Completed in\", time.time() - start, \"seconds\")\n",
        "\n",
        "# Fake Data Generation\n",
        "start = time.time()\n",
        "df_fd_pd[\"FakeColumn\"] = np.random.randint(1, 100, df_fd_pd.shape[0])\n",
        "print(\"Fake Data Generated in\", time.time() - start, \"seconds\")\n",
        "\n",
        "# String Transformation\n",
        "start = time.time()\n",
        "df_fd_pd[\"InvoiceNo\"] = df_fd_pd[\"InvoiceNo\"].astype(str) + \"_FD\"\n",
        "print(\"String Transformation Completed in\", time.time() - start, \"seconds\")\n",
        "\n",
        "# Saving Dataset\n",
        "start = time.time()\n",
        "df_fd_pd.to_csv(\"fireducks_output.csv\", index=False)\n",
        "print(\"Dataset Saved in\", time.time() - start, \"seconds\")\n"
      ],
      "metadata": {
        "colab": {
          "base_uri": "https://localhost:8080/"
        },
        "id": "LgRVXxC6aRIP",
        "outputId": "443e61b6-330d-4945-a061-792b47a03154"
      },
      "execution_count": 36,
      "outputs": [
        {
          "output_type": "stream",
          "name": "stdout",
          "text": [
            "Data Loaded in 1.0338706970214844 seconds\n",
            "Dataset Expanded in 0.03182506561279297 seconds\n",
            "Columns Dropped in 0.14439773559570312 seconds\n",
            "Sorting Completed in 1.7689001560211182 seconds\n",
            "Grouping Completed in 0.1662464141845703 seconds\n",
            "Fake Data Generated in 0.024537324905395508 seconds\n",
            "String Transformation Completed in 0.2761561870574951 seconds\n",
            "Dataset Saved in 5.282181262969971 seconds\n"
          ]
        }
      ]
    },
    {
      "cell_type": "code",
      "source": [
        "import numpy as np\n",
        "import pandas as pd\n",
        "import matplotlib.pyplot as plt\n",
        "\n",
        "# Performance data\n",
        "operations = [\n",
        "    \"Data Loading\", \"Dataset Expansion\", \"Column Dropping\", \"Sorting\",\n",
        "    \"Grouping\", \"String Transformation\", \"Dataset Saving\"\n",
        "]\n",
        "fireducks_times = [1.033, 0.0318, 0.144, 1.768, 0.166, 0.276, 5.282]\n",
        "pandas_times = [0.0000436, 1.206, 0.0191, 0.134, 1.35, 0.864, 3.046]\n",
        "\n",
        "# Set positions for bars\n",
        "x = np.arange(len(operations))\n",
        "width = 0.35  # Bar width\n",
        "\n",
        "# Create bar chart\n",
        "fig, ax = plt.subplots(figsize=(12, 6))\n",
        "\n",
        "# Plot bars for FireDucks and Pandas\n",
        "bars1 = ax.bar(x - width/2, fireducks_times, width, label='FireDucks', color='royalblue', alpha=0.7)\n",
        "bars2 = ax.bar(x + width/2, pandas_times, width, label='Pandas', color='orange', alpha=0.7)\n",
        "\n",
        "# Labels and Title\n",
        "ax.set_xlabel(\"Operations\", fontsize=12)\n",
        "ax.set_ylabel(\"Time (seconds)\", fontsize=12)\n",
        "ax.set_title(\"Performance Comparison: FireDucks vs. Pandas\", fontsize=14)\n",
        "ax.set_xticks(x)\n",
        "ax.set_xticklabels(operations, rotation=25, ha=\"right\")\n",
        "ax.legend()\n",
        "\n",
        "# Display the values on top of bars\n",
        "for bars in [bars1, bars2]:\n",
        "    for bar in bars:\n",
        "        height = bar.get_height()\n",
        "        ax.annotate(f'{height:.2f}',\n",
        "                    xy=(bar.get_x() + bar.get_width() / 2, height),\n",
        "                    xytext=(0, 3),  # Offset\n",
        "                    textcoords=\"offset points\",\n",
        "                    ha='center', va='bottom', fontsize=9)\n",
        "\n",
        "# Show plot\n",
        "plt.tight_layout()\n",
        "plt.show()\n"
      ],
      "metadata": {
        "colab": {
          "base_uri": "https://localhost:8080/",
          "height": 607
        },
        "id": "25v1ItKOfWyB",
        "outputId": "35e278bc-cb1c-474f-8140-07272a9a2a52"
      },
      "execution_count": 38,
      "outputs": [
        {
          "output_type": "display_data",
          "data": {
            "text/plain": [
              "<Figure size 1200x600 with 1 Axes>"
            ],
            "image/png": "[encoded data removed]"
          },
          "metadata": {}
        }
      ]
    },
    {
      "cell_type": "code",
      "source": [],
      "metadata": {
        "id": "oHrnkKThgqiI"
      },
      "execution_count": null,
      "outputs": []
    }
  ]
}